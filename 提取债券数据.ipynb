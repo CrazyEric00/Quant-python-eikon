{
 "cells": [
  {
   "cell_type": "code",
   "execution_count": 1,
   "metadata": {},
   "outputs": [],
   "source": [
    "import numpy as np\n",
    "import pandas as pd"
   ]
  },
  {
   "cell_type": "code",
   "execution_count": 2,
   "metadata": {},
   "outputs": [],
   "source": [
    "words=['US1MT','US2MT','US3MT','US6MT','US1YT','US2YT',\n",
    "       'US3YT','US5YT','US7YT','US10YT','US30YT']\n",
    "rics=['.IDCOT7TR','0#USBMK=']\n",
    "usmt_rics=['US1MT=RR','US2MT=RR','US3MT=RR','US6MT=RR']\n",
    "usyt_rics=['US1YT=RR','US2YT=RR','US3YT=RR','US5YT=RR','US7YT=RR','US10YT=RR','US30YT=RR']\n",
    "mp=usmt_rics+usyt_rics"
   ]
  },
  {
   "cell_type": "code",
   "execution_count": 3,
   "metadata": {},
   "outputs": [],
   "source": [
    "ans=[]\n",
    "for i in range(11):\n",
    "    a=[]\n",
    "    data1=pd.read_excel('UBS/'+words[i]+'.xlsx')\n",
    "    data2=pd.read_excel('瑞银/'+mp[i]+'.xlsx')\n",
    "    a.append(words[i])\n",
    "    a.append(data1.iloc[11,1])\n",
    "    a.append(data1.iloc[14,1])\n",
    "    a.append(data2.iloc[7,1])\n",
    "    a.append(data2.iloc[17,1])\n",
    "    ans.append(a)"
   ]
  },
  {
   "cell_type": "code",
   "execution_count": 4,
   "metadata": {},
   "outputs": [],
   "source": [
    "df=pd.DataFrame(ans)\n",
    "df.to_excel('value.xls',index=False)"
   ]
  },
  {
   "cell_type": "code",
   "execution_count": 5,
   "metadata": {},
   "outputs": [],
   "source": [
    "data2=pd.read_excel('UBS/'+words[0]+'.xlsx')"
   ]
  },
  {
   "cell_type": "code",
   "execution_count": 6,
   "metadata": {},
   "outputs": [
    {
     "data": {
      "text/plain": [
       "'100.00 / 100.00 / 100.00 USD'"
      ]
     },
     "execution_count": 6,
     "metadata": {},
     "output_type": "execute_result"
    }
   ],
   "source": [
    "data2.iloc[11,1]\n",
    "data2.iloc[14,1]"
   ]
  },
  {
   "cell_type": "code",
   "execution_count": 9,
   "metadata": {},
   "outputs": [
    {
     "data": {
      "text/html": [
       "<div>\n",
       "<style scoped>\n",
       "    .dataframe tbody tr th:only-of-type {\n",
       "        vertical-align: middle;\n",
       "    }\n",
       "\n",
       "    .dataframe tbody tr th {\n",
       "        vertical-align: top;\n",
       "    }\n",
       "\n",
       "    .dataframe thead th {\n",
       "        text-align: right;\n",
       "    }\n",
       "</style>\n",
       "<table border=\"1\" class=\"dataframe\">\n",
       "  <thead>\n",
       "    <tr style=\"text-align: right;\">\n",
       "      <th></th>\n",
       "      <th>Name</th>\n",
       "      <th>Current Coupon / Next Pay Date</th>\n",
       "      <th>Par Value / Min. Denomination / Increment</th>\n",
       "      <th>Bid / Ask Price</th>\n",
       "      <th>Yield</th>\n",
       "    </tr>\n",
       "  </thead>\n",
       "  <tbody>\n",
       "    <tr>\n",
       "      <td>0</td>\n",
       "      <td>US1MT</td>\n",
       "      <td>0.00000 / --</td>\n",
       "      <td>100.00 / 100.00 / 100.00 USD</td>\n",
       "      <td>*99*27⅝ / 99*27⅝</td>\n",
       "      <td>1.730698</td>\n",
       "    </tr>\n",
       "    <tr>\n",
       "      <td>1</td>\n",
       "      <td>US2MT</td>\n",
       "      <td>0.00000 / --</td>\n",
       "      <td>100.00 / 100.00 / 100.00 USD</td>\n",
       "      <td>*99*23½ / 99*23½</td>\n",
       "      <td>1.738025</td>\n",
       "    </tr>\n",
       "    <tr>\n",
       "      <td>2</td>\n",
       "      <td>US3MT</td>\n",
       "      <td>0.00000 / --</td>\n",
       "      <td>100.00 / 100.00 / 100.00 USD</td>\n",
       "      <td>*99*19 / 99*19⅛</td>\n",
       "      <td>1.710277</td>\n",
       "    </tr>\n",
       "    <tr>\n",
       "      <td>3</td>\n",
       "      <td>US6MT</td>\n",
       "      <td>0.00000 / --</td>\n",
       "      <td>100.00 / 100.00 / 100.00 USD</td>\n",
       "      <td>*99*06½ / 99*06⅝</td>\n",
       "      <td>1.655134</td>\n",
       "    </tr>\n",
       "    <tr>\n",
       "      <td>4</td>\n",
       "      <td>US1YT</td>\n",
       "      <td>0.00000 / --</td>\n",
       "      <td>100.00 / 100.00 / 100.00 USD</td>\n",
       "      <td>*98*17⅛ / 98*17⅜</td>\n",
       "      <td>1.598531</td>\n",
       "    </tr>\n",
       "    <tr>\n",
       "      <td>5</td>\n",
       "      <td>US2YT</td>\n",
       "      <td>1.50000 / 31-Mar-2020</td>\n",
       "      <td>100.00 / 100.00 / 100.00 USD</td>\n",
       "      <td>*100*06½ / 100*07⅛</td>\n",
       "      <td>1.395626</td>\n",
       "    </tr>\n",
       "    <tr>\n",
       "      <td>6</td>\n",
       "      <td>US3YT</td>\n",
       "      <td>1.50000 / 15-Mar-2020</td>\n",
       "      <td>100.00 / 100.00 / 100.00 USD</td>\n",
       "      <td>*100*14 / 100*14¾</td>\n",
       "      <td>1.347607</td>\n",
       "    </tr>\n",
       "    <tr>\n",
       "      <td>7</td>\n",
       "      <td>US5YT</td>\n",
       "      <td>1.50000 / 31-Mar-2020</td>\n",
       "      <td>100.00 / 100.00 / 100.00 USD</td>\n",
       "      <td>*100*26½ / 100*27¼</td>\n",
       "      <td>1.327611</td>\n",
       "    </tr>\n",
       "    <tr>\n",
       "      <td>8</td>\n",
       "      <td>US7YT</td>\n",
       "      <td>1.62500 / 31-Mar-2020</td>\n",
       "      <td>100.00 / 100.00 / 100.00 USD</td>\n",
       "      <td>*101*10 / 101*11⅛</td>\n",
       "      <td>1.426782</td>\n",
       "    </tr>\n",
       "    <tr>\n",
       "      <td>9</td>\n",
       "      <td>US10YT</td>\n",
       "      <td>1.62500 / 15-Feb-2020</td>\n",
       "      <td>100.00 / 100.00 / 100.00 USD</td>\n",
       "      <td>*101*00½ / 101*02</td>\n",
       "      <td>1.513618</td>\n",
       "    </tr>\n",
       "    <tr>\n",
       "      <td>10</td>\n",
       "      <td>US30YT</td>\n",
       "      <td>2.25000 / 15-Feb-2020</td>\n",
       "      <td>100.00 / 100.00 / 100.00 USD</td>\n",
       "      <td>*105*09 / 105*10⅞</td>\n",
       "      <td>2.013723</td>\n",
       "    </tr>\n",
       "  </tbody>\n",
       "</table>\n",
       "</div>"
      ],
      "text/plain": [
       "      Name Current Coupon / Next Pay Date  \\\n",
       "0    US1MT                   0.00000 / --   \n",
       "1    US2MT                   0.00000 / --   \n",
       "2    US3MT                   0.00000 / --   \n",
       "3    US6MT                   0.00000 / --   \n",
       "4    US1YT                   0.00000 / --   \n",
       "5    US2YT          1.50000 / 31-Mar-2020   \n",
       "6    US3YT          1.50000 / 15-Mar-2020   \n",
       "7    US5YT          1.50000 / 31-Mar-2020   \n",
       "8    US7YT          1.62500 / 31-Mar-2020   \n",
       "9   US10YT          1.62500 / 15-Feb-2020   \n",
       "10  US30YT          2.25000 / 15-Feb-2020   \n",
       "\n",
       "   Par Value / Min. Denomination / Increment     Bid / Ask Price     Yield  \n",
       "0               100.00 / 100.00 / 100.00 USD    *99*27⅝ / 99*27⅝  1.730698  \n",
       "1               100.00 / 100.00 / 100.00 USD    *99*23½ / 99*23½  1.738025  \n",
       "2               100.00 / 100.00 / 100.00 USD     *99*19 / 99*19⅛  1.710277  \n",
       "3               100.00 / 100.00 / 100.00 USD    *99*06½ / 99*06⅝  1.655134  \n",
       "4               100.00 / 100.00 / 100.00 USD    *98*17⅛ / 98*17⅜  1.598531  \n",
       "5               100.00 / 100.00 / 100.00 USD  *100*06½ / 100*07⅛  1.395626  \n",
       "6               100.00 / 100.00 / 100.00 USD   *100*14 / 100*14¾  1.347607  \n",
       "7               100.00 / 100.00 / 100.00 USD  *100*26½ / 100*27¼  1.327611  \n",
       "8               100.00 / 100.00 / 100.00 USD   *101*10 / 101*11⅛  1.426782  \n",
       "9               100.00 / 100.00 / 100.00 USD   *101*00½ / 101*02  1.513618  \n",
       "10              100.00 / 100.00 / 100.00 USD   *105*09 / 105*10⅞  2.013723  "
      ]
     },
     "execution_count": 9,
     "metadata": {},
     "output_type": "execute_result"
    }
   ],
   "source": [
    "df=pd.read_excel('value.xls')\n",
    "df"
   ]
  },
  {
   "cell_type": "code",
   "execution_count": null,
   "metadata": {},
   "outputs": [],
   "source": []
  }
 ],
 "metadata": {
  "kernelspec": {
   "display_name": "Python 3",
   "language": "python",
   "name": "python3"
  },
  "language_info": {
   "codemirror_mode": {
    "name": "ipython",
    "version": 3
   },
   "file_extension": ".py",
   "mimetype": "text/x-python",
   "name": "python",
   "nbconvert_exporter": "python",
   "pygments_lexer": "ipython3",
   "version": "3.7.4"
  }
 },
 "nbformat": 4,
 "nbformat_minor": 2
}
