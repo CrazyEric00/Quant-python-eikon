{
 "cells": [
  {
   "cell_type": "code",
   "execution_count": 1,
   "metadata": {},
   "outputs": [],
   "source": [
    "import numpy as np\n",
    "import pandas as pd"
   ]
  },
  {
   "cell_type": "code",
   "execution_count": 6,
   "metadata": {},
   "outputs": [],
   "source": [
    "usmt_rics=['US1MT=RR','US2MT=RR','US3MT=RR','US6MT=RR']\n",
    "usyt_rics=['US1YT=RR','US2YT=RR','US3YT=RR','US5YT=RR','US7YT=RR','US10YT=RR','US30YT=RR']\n",
    "mp=usmt_rics+usyt_rics\n",
    "s='_Bid_Yield'"
   ]
  },
  {
   "cell_type": "code",
   "execution_count": 16,
   "metadata": {},
   "outputs": [],
   "source": [
    "year=[]\n",
    "\n",
    "for i in mp:\n",
    "    data=pd.read_csv('Bid_Yield/'+i+s+'.csv')\n",
    "    year.append([i,data.iloc[0,6]])\n",
    "\n",
    "df=pd.DataFrame(year,columns=['Name','Volatility,1 年'])\n",
    "df.to_excel('Volatility_year.xls',index=False)"
   ]
  },
  {
   "cell_type": "code",
   "execution_count": 33,
   "metadata": {},
   "outputs": [],
   "source": [
    "df=pd.DataFrame()\n",
    "\n",
    "data=pd.read_csv('Bid_Yield/'+mp[0]+s+'.csv')\n",
    "df.insert(len(df.columns),column='Day',value=data.iloc[:,0])\n",
    "\n",
    "for i in mp:\n",
    "    data=pd.read_csv('Bid_Yield/'+i+s+'.csv')\n",
    "    df.insert(len(df.columns),column=i,value=data.iloc[:,7])\n",
    "\n",
    "df.to_excel('Volatility_days.xls',index=False)"
   ]
  },
  {
   "cell_type": "code",
   "execution_count": 26,
   "metadata": {},
   "outputs": [
    {
     "data": {
      "text/plain": [
       "0      37.168641\n",
       "1      37.514401\n",
       "2      40.817124\n",
       "3      40.579486\n",
       "4      40.575006\n",
       "         ...    \n",
       "496          NaN\n",
       "497          NaN\n",
       "498          NaN\n",
       "499          NaN\n",
       "500          NaN\n",
       "Name: US30YT=RR,Volatility,23 天数, Length: 501, dtype: float64"
      ]
     },
     "execution_count": 26,
     "metadata": {},
     "output_type": "execute_result"
    }
   ],
   "source": [
    "data.iloc[:,7]"
   ]
  },
  {
   "cell_type": "code",
   "execution_count": null,
   "metadata": {},
   "outputs": [],
   "source": []
  }
 ],
 "metadata": {
  "kernelspec": {
   "display_name": "Python 3",
   "language": "python",
   "name": "python3"
  },
  "language_info": {
   "codemirror_mode": {
    "name": "ipython",
    "version": 3
   },
   "file_extension": ".py",
   "mimetype": "text/x-python",
   "name": "python",
   "nbconvert_exporter": "python",
   "pygments_lexer": "ipython3",
   "version": "3.7.4"
  }
 },
 "nbformat": 4,
 "nbformat_minor": 2
}
