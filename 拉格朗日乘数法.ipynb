{
 "cells": [
  {
   "cell_type": "code",
   "execution_count": 1,
   "metadata": {},
   "outputs": [],
   "source": [
    "import numpy as np\n",
    "import pandas as pd\n",
    "import eikon as ek"
   ]
  },
  {
   "cell_type": "code",
   "execution_count": 2,
   "metadata": {},
   "outputs": [],
   "source": [
    "with open('key.txt','r') as f:\n",
    "    key=f.readline()\n",
    "    ek.set_app_key(key)"
   ]
  },
  {
   "cell_type": "code",
   "execution_count": 3,
   "metadata": {},
   "outputs": [],
   "source": [
    "words=['US1MT','US3MT','US6MT','US1YT','US2YT',\n",
    "       'US3YT','US5YT','US7YT','US10YT','US30YT']"
   ]
  },
  {
   "cell_type": "code",
   "execution_count": 4,
   "metadata": {},
   "outputs": [],
   "source": [
    "r=pd.read_excel('relevant.xls')\n",
    "cov=[]\n",
    "index=0\n",
    "for i in range(10):\n",
    "    a=[]\n",
    "    for j in range(10):\n",
    "        a.append(np.float64(r.iloc[index,2]))\n",
    "        index+=1\n",
    "    cov.append(a)\n",
    "u=np.array(cov)"
   ]
  },
  {
   "cell_type": "code",
   "execution_count": 5,
   "metadata": {},
   "outputs": [],
   "source": [
    "t=np.ones(10,dtype=np.float64).reshape(10,1)\n",
    "E=np.eye(10,dtype=np.float64)"
   ]
  },
  {
   "cell_type": "code",
   "execution_count": 6,
   "metadata": {},
   "outputs": [],
   "source": [
    "r=[]\n",
    "for i in words:\n",
    "    Yield=ek.get_data(i+'=RR',fields=ek.TR_Field('TR.FiMaturityStandardYield'))\n",
    "    Yield=np.float64(Yield[0].iloc[0,1])\n",
    "    r.append(Yield*0.01)\n",
    "r=np.array(r).reshape(10,1)"
   ]
  },
  {
   "cell_type": "code",
   "execution_count": 49,
   "metadata": {},
   "outputs": [
    {
     "name": "stdout",
     "output_type": "stream",
     "text": [
      "(10, 1)\n"
     ]
    },
    {
     "data": {
      "text/plain": [
       "matrix([[-1.02660124e-02],\n",
       "        [ 6.99331741e-03],\n",
       "        [ 3.20247934e-02],\n",
       "        [-2.76342975e-02],\n",
       "        [-2.81818182e+00],\n",
       "        [-6.74715909e-01],\n",
       "        [ 1.13388430e+01],\n",
       "        [ 4.39049587e-02],\n",
       "        [-7.19008264e+00],\n",
       "        [ 2.97520661e-01]])"
      ]
     },
     "execution_count": 49,
     "metadata": {},
     "output_type": "execute_result"
    }
   ],
   "source": [
    "A=np.dot(np.dot(r.T,np.linalg.inv(u)),t)\n",
    "B=np.dot(np.dot(r.T,np.linalg.inv(u)),r)\n",
    "C=np.dot(np.dot(t.T,np.linalg.inv(u)),t)\n",
    "D=np.dot(np.mat(B),np.mat(C))-np.dot(np.mat(A),np.mat(A))\n",
    "G=np.mat([[1.]])\n",
    "print(np.dot(np.linalg.inv(u),t).shape)\n",
    "m=np.multiply((1/D),(np.multiply(B,np.dot(np.linalg.inv(u),t))-np.multiply(A,np.dot(np.linalg.inv(u),r))))\n",
    "n=np.multiply((1/D),(np.multiply(C,np.dot(np.linalg.inv(u),r))-np.multiply(A,np.dot(np.linalg.inv(u),t))))\n",
    "m"
   ]
  },
  {
   "cell_type": "code",
   "execution_count": 56,
   "metadata": {},
   "outputs": [
    {
     "name": "stdout",
     "output_type": "stream",
     "text": [
      "(1, 1)\n"
     ]
    },
    {
     "ename": "ValueError",
     "evalue": "shapes (10,1) and (10,10) not aligned: 1 (dim 1) != 10 (dim 0)",
     "output_type": "error",
     "traceback": [
      "\u001b[0;31m---------------------------------------------------------------------------\u001b[0m",
      "\u001b[0;31mValueError\u001b[0m                                Traceback (most recent call last)",
      "\u001b[0;32m<ipython-input-56-79ec3e28b080>\u001b[0m in \u001b[0;36m<module>\u001b[0;34m\u001b[0m\n\u001b[1;32m      1\u001b[0m \u001b[0mprint\u001b[0m\u001b[0;34m(\u001b[0m\u001b[0mnp\u001b[0m\u001b[0;34m.\u001b[0m\u001b[0mdot\u001b[0m\u001b[0;34m(\u001b[0m\u001b[0mr\u001b[0m\u001b[0;34m.\u001b[0m\u001b[0mT\u001b[0m\u001b[0;34m,\u001b[0m\u001b[0mn\u001b[0m\u001b[0;34m)\u001b[0m\u001b[0;34m.\u001b[0m\u001b[0mshape\u001b[0m\u001b[0;34m)\u001b[0m\u001b[0;34m\u001b[0m\u001b[0;34m\u001b[0m\u001b[0m\n\u001b[0;32m----> 2\u001b[0;31m \u001b[0mw\u001b[0m\u001b[0;34m=\u001b[0m\u001b[0mnp\u001b[0m\u001b[0;34m.\u001b[0m\u001b[0mdot\u001b[0m\u001b[0;34m(\u001b[0m\u001b[0mm\u001b[0m\u001b[0;34m,\u001b[0m\u001b[0mnp\u001b[0m\u001b[0;34m.\u001b[0m\u001b[0mlinalg\u001b[0m\u001b[0;34m.\u001b[0m\u001b[0minv\u001b[0m\u001b[0;34m(\u001b[0m\u001b[0mE\u001b[0m\u001b[0;34m-\u001b[0m\u001b[0mnp\u001b[0m\u001b[0;34m.\u001b[0m\u001b[0mdot\u001b[0m\u001b[0;34m(\u001b[0m\u001b[0mr\u001b[0m\u001b[0;34m.\u001b[0m\u001b[0mT\u001b[0m\u001b[0;34m,\u001b[0m\u001b[0mn\u001b[0m\u001b[0;34m)\u001b[0m\u001b[0;34m)\u001b[0m\u001b[0;34m)\u001b[0m\u001b[0;34m\u001b[0m\u001b[0;34m\u001b[0m\u001b[0m\n\u001b[0m\u001b[1;32m      3\u001b[0m \u001b[0mw\u001b[0m\u001b[0;34m\u001b[0m\u001b[0;34m\u001b[0m\u001b[0m\n",
      "\u001b[0;31mValueError\u001b[0m: shapes (10,1) and (10,10) not aligned: 1 (dim 1) != 10 (dim 0)"
     ]
    }
   ],
   "source": [
    "print(np.dot(r.T,n).shape)\n",
    "w=np.dot(m,np.linalg.inv(E-np.dot(r.T,n)))\n",
    "w"
   ]
  },
  {
   "cell_type": "code",
   "execution_count": null,
   "metadata": {},
   "outputs": [],
   "source": []
  }
 ],
 "metadata": {
  "kernelspec": {
   "display_name": "Python 3",
   "language": "python",
   "name": "python3"
  },
  "language_info": {
   "codemirror_mode": {
    "name": "ipython",
    "version": 3
   },
   "file_extension": ".py",
   "mimetype": "text/x-python",
   "name": "python",
   "nbconvert_exporter": "python",
   "pygments_lexer": "ipython3",
   "version": "3.7.4"
  }
 },
 "nbformat": 4,
 "nbformat_minor": 2
}
