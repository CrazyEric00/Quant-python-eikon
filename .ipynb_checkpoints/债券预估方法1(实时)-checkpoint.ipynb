{
 "cells": [
  {
   "cell_type": "code",
   "execution_count": 43,
   "metadata": {},
   "outputs": [],
   "source": [
    "import numpy as np\n",
    "import pandas as pd\n",
    "import eikon as ek"
   ]
  },
  {
   "cell_type": "code",
   "execution_count": 44,
   "metadata": {},
   "outputs": [],
   "source": [
    "with open('key.txt','r') as f:\n",
    "    key=f.readline()\n",
    "    ek.set_app_key(key)"
   ]
  },
  {
   "cell_type": "code",
   "execution_count": 45,
   "metadata": {},
   "outputs": [],
   "source": [
    "rics=['.IDCOT7TR','0#USBMK=']\n",
    "usmt_rics=['US1MT=RR','US2MT=RR','US3MT=RR','US6MT=RR']\n",
    "usyt_rics=['US1YT=RR','US2YT=RR','US3YT=RR','US5YT=RR','US7YT=RR','US10YT=RR','US30YT=RR']"
   ]
  },
  {
   "cell_type": "code",
   "execution_count": 46,
   "metadata": {},
   "outputs": [
    {
     "name": "stdout",
     "output_type": "stream",
     "text": [
      ".IDCOT7TR\n"
     ]
    }
   ],
   "source": [
    "print(rics[0])"
   ]
  },
  {
   "cell_type": "code",
   "execution_count": 48,
   "metadata": {},
   "outputs": [
    {
     "name": "stdout",
     "output_type": "stream",
     "text": [
      "US1MT=RR\n",
      "US2MT=RR\n",
      "US3MT=RR\n",
      "US6MT=RR\n",
      "US1YT=RR\n"
     ]
    },
    {
     "name": "stderr",
     "output_type": "stream",
     "text": [
      "Backend error. 500 Internal Server Error\n"
     ]
    },
    {
     "ename": "EikonError",
     "evalue": "Error code 500 | Backend error. 500 Internal Server Error",
     "output_type": "error",
     "traceback": [
      "\u001b[1;31m---------------------------------------------------------------------------\u001b[0m",
      "\u001b[1;31mEikonError\u001b[0m                                Traceback (most recent call last)",
      "\u001b[1;32m<ipython-input-48-9edb10ec6b30>\u001b[0m in \u001b[0;36m<module>\u001b[1;34m\u001b[0m\n\u001b[0;32m      5\u001b[0m \u001b[1;32mfor\u001b[0m \u001b[0mric\u001b[0m \u001b[1;32min\u001b[0m \u001b[0musyt_rics\u001b[0m\u001b[1;33m:\u001b[0m\u001b[1;33m\u001b[0m\u001b[0m\n\u001b[0;32m      6\u001b[0m     \u001b[0mprint\u001b[0m\u001b[1;33m(\u001b[0m\u001b[0mric\u001b[0m\u001b[1;33m)\u001b[0m\u001b[1;33m\u001b[0m\u001b[0m\n\u001b[1;32m----> 7\u001b[1;33m     \u001b[0mdata\u001b[0m \u001b[1;33m=\u001b[0m \u001b[0mek\u001b[0m\u001b[1;33m.\u001b[0m\u001b[0mget_timeseries\u001b[0m\u001b[1;33m(\u001b[0m\u001b[0mric\u001b[0m\u001b[1;33m,\u001b[0m\u001b[0mfields\u001b[0m\u001b[1;33m=\u001b[0m\u001b[1;34m'*'\u001b[0m\u001b[1;33m,\u001b[0m\u001b[0mstart_date\u001b[0m\u001b[1;33m=\u001b[0m\u001b[1;34m'2019-8-1'\u001b[0m\u001b[1;33m,\u001b[0m\u001b[0mend_date\u001b[0m\u001b[1;33m=\u001b[0m\u001b[1;34m'2019-9-30'\u001b[0m\u001b[1;33m)\u001b[0m\u001b[1;33m\u001b[0m\u001b[0m\n\u001b[0m\u001b[0;32m      8\u001b[0m     \u001b[0mdata\u001b[0m\u001b[1;33m.\u001b[0m\u001b[0mto_csv\u001b[0m\u001b[1;33m(\u001b[0m\u001b[0mric\u001b[0m\u001b[1;33m+\u001b[0m\u001b[1;34m'.csv'\u001b[0m\u001b[1;33m)\u001b[0m\u001b[1;33m\u001b[0m\u001b[0m\n",
      "\u001b[1;32m~\\AppData\\Roaming\\Python\\Python36\\site-packages\\eikon\\time_series.py\u001b[0m in \u001b[0;36mget_timeseries\u001b[1;34m(rics, fields, start_date, end_date, interval, count, calendar, corax, normalize, raw_output, debug)\u001b[0m\n\u001b[0;32m    175\u001b[0m                 \u001b[1;32mraise\u001b[0m \u001b[0mValueError\u001b[0m\u001b[1;33m(\u001b[0m\u001b[0merror_msg\u001b[0m\u001b[1;33m)\u001b[0m\u001b[1;33m\u001b[0m\u001b[0m\n\u001b[0;32m    176\u001b[0m \u001b[1;33m\u001b[0m\u001b[0m\n\u001b[1;32m--> 177\u001b[1;33m     \u001b[0mts_result\u001b[0m \u001b[1;33m=\u001b[0m \u001b[0meikon\u001b[0m\u001b[1;33m.\u001b[0m\u001b[0mjson_requests\u001b[0m\u001b[1;33m.\u001b[0m\u001b[0msend_json_request\u001b[0m\u001b[1;33m(\u001b[0m\u001b[0mTimeSeries_UDF_endpoint\u001b[0m\u001b[1;33m,\u001b[0m \u001b[0mpayload\u001b[0m\u001b[1;33m,\u001b[0m \u001b[0mdebug\u001b[0m\u001b[1;33m=\u001b[0m\u001b[0mdebug\u001b[0m\u001b[1;33m)\u001b[0m\u001b[1;33m\u001b[0m\u001b[0m\n\u001b[0m\u001b[0;32m    178\u001b[0m \u001b[1;33m\u001b[0m\u001b[0m\n\u001b[0;32m    179\u001b[0m     \u001b[1;31m# Catch all errors to raise a warning\u001b[0m\u001b[1;33m\u001b[0m\u001b[1;33m\u001b[0m\u001b[0m\n",
      "\u001b[1;32m~\\AppData\\Roaming\\Python\\Python36\\site-packages\\eikon\\json_requests.py\u001b[0m in \u001b[0;36msend_json_request\u001b[1;34m(entity, payload, debug)\u001b[0m\n\u001b[0;32m    116\u001b[0m                         \u001b[0mticket\u001b[0m \u001b[1;33m=\u001b[0m \u001b[0m_check_ticket_async\u001b[0m\u001b[1;33m(\u001b[0m\u001b[0mresult\u001b[0m\u001b[1;33m)\u001b[0m\u001b[1;33m\u001b[0m\u001b[0m\n\u001b[0;32m    117\u001b[0m \u001b[1;33m\u001b[0m\u001b[0m\n\u001b[1;32m--> 118\u001b[1;33m                 \u001b[0m_check_server_error\u001b[0m\u001b[1;33m(\u001b[0m\u001b[0mresult\u001b[0m\u001b[1;33m)\u001b[0m\u001b[1;33m\u001b[0m\u001b[0m\n\u001b[0m\u001b[0;32m    119\u001b[0m                 \u001b[1;32mreturn\u001b[0m \u001b[0mresult\u001b[0m\u001b[1;33m\u001b[0m\u001b[0m\n\u001b[0;32m    120\u001b[0m             \u001b[1;32melse\u001b[0m\u001b[1;33m:\u001b[0m\u001b[1;33m\u001b[0m\u001b[0m\n",
      "\u001b[1;32m~\\AppData\\Roaming\\Python\\Python36\\site-packages\\eikon\\json_requests.py\u001b[0m in \u001b[0;36m_check_server_error\u001b[1;34m(server_response)\u001b[0m\n\u001b[0;32m    192\u001b[0m             \u001b[0mstatus\u001b[0m\u001b[1;33m,\u001b[0m \u001b[0mreason_phrase\u001b[0m\u001b[1;33m,\u001b[0m \u001b[0mversion\u001b[0m\u001b[1;33m,\u001b[0m \u001b[0mcontent\u001b[0m\u001b[1;33m,\u001b[0m \u001b[0mheaders\u001b[0m \u001b[1;33m=\u001b[0m \u001b[0merror_message\u001b[0m\u001b[1;33m.\u001b[0m\u001b[0msplit\u001b[0m\u001b[1;33m(\u001b[0m\u001b[1;34m','\u001b[0m\u001b[1;33m)\u001b[0m\u001b[1;33m[\u001b[0m\u001b[1;33m:\u001b[0m\u001b[1;36m5\u001b[0m\u001b[1;33m]\u001b[0m\u001b[1;33m\u001b[0m\u001b[0m\n\u001b[0;32m    193\u001b[0m         \u001b[0mlogger\u001b[0m\u001b[1;33m.\u001b[0m\u001b[0merror\u001b[0m\u001b[1;33m(\u001b[0m\u001b[0merror_message\u001b[0m\u001b[1;33m)\u001b[0m\u001b[1;33m\u001b[0m\u001b[0m\n\u001b[1;32m--> 194\u001b[1;33m         \u001b[1;32mraise\u001b[0m \u001b[0mEikonError\u001b[0m\u001b[1;33m(\u001b[0m\u001b[0mint\u001b[0m\u001b[1;33m(\u001b[0m\u001b[0mserver_response\u001b[0m\u001b[1;33m[\u001b[0m\u001b[1;34m'ErrorCode'\u001b[0m\u001b[1;33m]\u001b[0m\u001b[1;33m)\u001b[0m\u001b[1;33m,\u001b[0m \u001b[0merror_message\u001b[0m\u001b[1;33m)\u001b[0m\u001b[1;33m\u001b[0m\u001b[0m\n\u001b[0m\u001b[0;32m    195\u001b[0m \u001b[1;33m\u001b[0m\u001b[0m\n\u001b[0;32m    196\u001b[0m     \u001b[1;31m# check DataGrid response (server response is JSON and it can contain error + transactionId keys)\u001b[0m\u001b[1;33m\u001b[0m\u001b[1;33m\u001b[0m\u001b[0m\n",
      "\u001b[1;31mEikonError\u001b[0m: Error code 500 | Backend error. 500 Internal Server Error"
     ]
    }
   ],
   "source": [
    "for ric in rics:\n",
    "    print(ric)\n",
    "    data = ek.get_timeseries(ric,fields='*',start_date='2019-8-1',end_date='2019-9-30')\n",
    "    data.to_csv(ric+'.csv')\n",
    "for ric in usmt_rics:\n",
    "    print(ric)\n",
    "    data = ek.get_timeseries(ric,fields='*',start_date='2019-8-1',end_date='2019-9-30')\n",
    "    data.to_csv(ric+'.csv')\n",
    "for ric in usyt_rics:\n",
    "    print(ric)\n",
    "    data = ek.get_timeseries(ric,fields='*',start_date='2019-8-1',end_date='2019-9-30')\n",
    "    data.to_csv(ric+'.csv')"
   ]
  },
  {
   "cell_type": "code",
   "execution_count": null,
   "metadata": {},
   "outputs": [],
   "source": []
  }
 ],
 "metadata": {
  "kernelspec": {
   "display_name": "Python 3",
   "language": "python",
   "name": "python3"
  },
  "language_info": {
   "codemirror_mode": {
    "name": "ipython",
    "version": 3
   },
   "file_extension": ".py",
   "mimetype": "text/x-python",
   "name": "python",
   "nbconvert_exporter": "python",
   "pygments_lexer": "ipython3",
   "version": "3.7.4"
  }
 },
 "nbformat": 4,
 "nbformat_minor": 2
}
