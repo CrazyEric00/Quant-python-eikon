{
 "cells": [
  {
   "cell_type": "code",
   "execution_count": 1,
   "metadata": {},
   "outputs": [],
   "source": [
    "import numpy as np\n",
    "import pandas as pd\n",
    "import eikon as ek"
   ]
  },
  {
   "cell_type": "code",
   "execution_count": 2,
   "metadata": {},
   "outputs": [],
   "source": [
    "with open('key.txt','r') as f:\n",
    "    key=f.readline()\n",
    "    ek.set_app_key(key)"
   ]
  },
  {
   "cell_type": "code",
   "execution_count": 3,
   "metadata": {},
   "outputs": [],
   "source": [
    "rics=['.IDCOT7TR','0#USBMK=']\n",
    "usmt_rics=['US1MT','US2MT','US3MT','US6MT']\n",
    "usyt_rics=['US1YT','US2YT','US3YT','US5YT','US7YT','US10YT','US30YT']\n",
    "words=['US1MT','US2MT','US3MT','US6MT','US1YT','US2YT',\n",
    "       'US3YT','US5YT','US7YT','US10YT','US30YT']"
   ]
  },
  {
   "cell_type": "code",
   "execution_count": 4,
   "metadata": {},
   "outputs": [],
   "source": [
    "def name_to_digits(Name):\n",
    "    ans=0\n",
    "    for i in range(len(Name)):\n",
    "        if Name[i]>='0' and Name[i]<='9':\n",
    "            ans=ans*10+int(Name[i])\n",
    "    return ans"
   ]
  },
  {
   "cell_type": "code",
   "execution_count": 5,
   "metadata": {},
   "outputs": [],
   "source": [
    "def cal_mt(Name,Yield):\n",
    "    Month=name_to_digits(Name)\n",
    "    price=100/((1+Yield*0.01/12*Month)**(Month/12))\n",
    "    return price"
   ]
  },
  {
   "cell_type": "code",
   "execution_count": 6,
   "metadata": {},
   "outputs": [],
   "source": [
    "def cal_yt(Name,Coupon,Yield):\n",
    "    Year=name_to_digits(Name)\n",
    "    price=0\n",
    "    for i in range(1,Year):\n",
    "        price+=Coupon/(1+Yield*0.01)**i\n",
    "    price+=(Coupon+100)/(1+Yield*0.01)**Year\n",
    "    return price"
   ]
  },
  {
   "cell_type": "code",
   "execution_count": 7,
   "metadata": {},
   "outputs": [
    {
     "data": {
      "text/plain": [
       "[0.0, 1.5, 1.5, 1.5, 1.625, 1.625, 2.25]"
      ]
     },
     "execution_count": 7,
     "metadata": {},
     "output_type": "execute_result"
    }
   ],
   "source": [
    "data=pd.read_excel('value.xls')\n",
    "a=list(data.iloc[:,1])\n",
    "Coupon=[]\n",
    "for i in a:\n",
    "    t,_=i.split('/')\n",
    "    Coupon.append(np.float64(t))\n",
    "Coupon=Coupon[4:]\n",
    "Coupon"
   ]
  },
  {
   "cell_type": "code",
   "execution_count": 23,
   "metadata": {},
   "outputs": [
    {
     "data": {
      "text/plain": [
       "[['US1MT', 99.98809493982245],\n",
       " ['US2MT', 99.95236881207413],\n",
       " ['US3MT', 99.89499821428255],\n",
       " ['US6MT', 99.5823320957744],\n",
       " ['US1YT', 98.40526494146425],\n",
       " ['US2YT', 99.93696055108556],\n",
       " ['US3YT', 100.02156797540934],\n",
       " ['US5YT', 100.1097827762254],\n",
       " ['US7YT', 100.37533154966717],\n",
       " ['US10YT', 99.71647896673026],\n",
       " ['US30YT', 102.15733369529]]"
      ]
     },
     "execution_count": 23,
     "metadata": {},
     "output_type": "execute_result"
    }
   ],
   "source": [
    "ans=[]\n",
    "for i in usmt_rics:\n",
    "    Yield=ek.get_data(i+'=RR',fields=ek.TR_Field('TR.FiMaturityStandardYield'))\n",
    "    Yield=np.float64(Yield[0].iloc[0,1])\n",
    "    a=[]\n",
    "    a.append(i)\n",
    "    a.append(cal_mt(i,np.float64(Yield)))\n",
    "    ans.append(a)\n",
    "\n",
    "for i in range(len(usyt_rics)):\n",
    "    Yield=ek.get_data(usyt_rics[i]+'=RR',fields=ek.TR_Field('TR.FiMaturityStandardYield'))\n",
    "    Yield=np.float64(Yield[0].iloc[0,1])\n",
    "    a=[]\n",
    "    a.append(usyt_rics[i])\n",
    "    a.append(cal_yt(usyt_rics[i],Coupon[i],np.float64(Yield)))\n",
    "    ans.append(a)\n",
    "\n",
    "ans"
   ]
  },
  {
   "cell_type": "code",
   "execution_count": 25,
   "metadata": {},
   "outputs": [],
   "source": [
    "estimate=pd.DataFrame(ans,columns=['Name','Value'])\n",
    "estimate.to_excel('estimate.xls',index=False)"
   ]
  },
  {
   "cell_type": "code",
   "execution_count": null,
   "metadata": {},
   "outputs": [],
   "source": []
  }
 ],
 "metadata": {
  "kernelspec": {
   "display_name": "Python 3",
   "language": "python",
   "name": "python3"
  },
  "language_info": {
   "codemirror_mode": {
    "name": "ipython",
    "version": 3
   },
   "file_extension": ".py",
   "mimetype": "text/x-python",
   "name": "python",
   "nbconvert_exporter": "python",
   "pygments_lexer": "ipython3",
   "version": "3.7.6"
  }
 },
 "nbformat": 4,
 "nbformat_minor": 2
}
